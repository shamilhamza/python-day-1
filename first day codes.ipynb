{
  "nbformat": 4,
  "nbformat_minor": 0,
  "metadata": {
    "colab": {
      "name": "Untitled0.ipynb",
      "provenance": [],
      "collapsed_sections": [],
      "authorship_tag": "ABX9TyMz/tAWx27U1EmckEej/Qzd",
      "include_colab_link": true
    },
    "kernelspec": {
      "name": "python3",
      "display_name": "Python 3"
    }
  },
  "cells": [
    {
      "cell_type": "markdown",
      "metadata": {
        "id": "view-in-github",
        "colab_type": "text"
      },
      "source": [
        "<a href=\"https://colab.research.google.com/github/shamilhamza/python-day-1/blob/main/first%20day%20codes.ipynb\" target=\"_parent\"><img src=\"https://colab.research.google.com/assets/colab-badge.svg\" alt=\"Open In Colab\"/></a>"
      ]
    },
    {
      "cell_type": "code",
      "metadata": {
        "colab": {
          "base_uri": "https://localhost:8080/",
          "height": 0
        },
        "id": "ZOYMFpH65QRI",
        "outputId": "a1e168a6-5415-4ce7-a4ff-f87f94727219"
      },
      "source": [
        "print(\"WHAT IS YOUR NAME?\")\n",
        "name=input()\n",
        "print(\"HELLO \" + name + \" !\")"
      ],
      "execution_count": 3,
      "outputs": [
        {
          "output_type": "stream",
          "text": [
            "WHAT IS YOUR NAME?\n",
            "shamil\n",
            "HELLO shamil !\n"
          ],
          "name": "stdout"
        }
      ]
    },
    {
      "cell_type": "code",
      "metadata": {
        "colab": {
          "base_uri": "https://localhost:8080/",
          "height": 0
        },
        "id": "kIMqgd0f5w3L",
        "outputId": "56d7fc44-6fa6-4111-d217-6f9a3908787a"
      },
      "source": [
        "a=int(input())\n",
        "b=int(input())\n",
        "sum=a + b\n",
        "print(sum)"
      ],
      "execution_count": 12,
      "outputs": [
        {
          "output_type": "stream",
          "text": [
            "5\n",
            "5\n",
            "10\n"
          ],
          "name": "stdout"
        }
      ]
    },
    {
      "cell_type": "code",
      "metadata": {
        "colab": {
          "base_uri": "https://localhost:8080/",
          "height": 0
        },
        "id": "jEg6MAkX7JHT",
        "outputId": "7ca5c37b-391c-4398-d7d9-496fb7956790"
      },
      "source": [
        "print(4 * 5)"
      ],
      "execution_count": 14,
      "outputs": [
        {
          "output_type": "stream",
          "text": [
            "20\n"
          ],
          "name": "stdout"
        }
      ]
    },
    {
      "cell_type": "code",
      "metadata": {
        "colab": {
          "base_uri": "https://localhost:8080/",
          "height": 0
        },
        "id": "OAKR0-shDega",
        "outputId": "4dfda1d9-9ff7-4928-9250-9a527915ab37"
      },
      "source": [
        "a=int(input())\n",
        "b=int(input())\n",
        "c=int(input())\n",
        "s=a + b + c\n",
        "print(s)"
      ],
      "execution_count": 15,
      "outputs": [
        {
          "output_type": "stream",
          "text": [
            "5\n",
            "101\n",
            "151\n",
            "257\n"
          ],
          "name": "stdout"
        }
      ]
    },
    {
      "cell_type": "code",
      "metadata": {
        "colab": {
          "base_uri": "https://localhost:8080/",
          "height": 0
        },
        "id": "bMx4ZSPDHfrv",
        "outputId": "ab17839c-d442-48ae-85ff-8d5acde4a45b"
      },
      "source": [
        "a=int(input())\n",
        "b=int(input())\n",
        "c=int(input())\n",
        "print(a + b + c)\n"
      ],
      "execution_count": 29,
      "outputs": [
        {
          "output_type": "stream",
          "text": [
            "10\n",
            "10\n",
            "10\n",
            "30\n"
          ],
          "name": "stdout"
        }
      ]
    },
    {
      "cell_type": "code",
      "metadata": {
        "colab": {
          "base_uri": "https://localhost:8080/",
          "height": 0
        },
        "id": "rvWbKoEhD6Le",
        "outputId": "1e304843-6f32-4d05-d57e-41b775448700"
      },
      "source": [
        "print(\"WHAT IS YOUR NAME\")\n",
        "name=input()\n",
        "print(\"HI \" + name + \" !\")\n"
      ],
      "execution_count": 24,
      "outputs": [
        {
          "output_type": "stream",
          "text": [
            "WHAT IS YOUR NAME\n",
            "HAMZA\n",
            "HI HAMZA !\n"
          ],
          "name": "stdout"
        }
      ]
    },
    {
      "cell_type": "code",
      "metadata": {
        "colab": {
          "base_uri": "https://localhost:8080/",
          "height": 0
        },
        "id": "_irGdhcaEuup",
        "outputId": "04cd4e74-bdab-4329-eb7e-00d98dd2e604"
      },
      "source": [
        "a=int(input())\n",
        "b=a * a\n",
        "print(b)\n"
      ],
      "execution_count": 26,
      "outputs": [
        {
          "output_type": "stream",
          "text": [
            "5\n",
            "25\n"
          ],
          "name": "stdout"
        }
      ]
    },
    {
      "cell_type": "code",
      "metadata": {
        "colab": {
          "base_uri": "https://localhost:8080/",
          "height": 0
        },
        "id": "kXVjXEfiFBsP",
        "outputId": "35419585-2e7d-49ae-f7d2-020f47fc5265"
      },
      "source": [
        "B=3\n",
        "A=4\n",
        "H=5\n",
        "area=1 / 2 * (B * H)\n",
        "print(area)\n"
      ],
      "execution_count": 27,
      "outputs": [
        {
          "output_type": "stream",
          "text": [
            "7.5\n"
          ],
          "name": "stdout"
        }
      ]
    },
    {
      "cell_type": "code",
      "metadata": {
        "colab": {
          "base_uri": "https://localhost:8080/",
          "height": 0
        },
        "id": "2y40NA1FFu49",
        "outputId": "e3225876-ab3f-4670-ad0c-a20b85aefea2"
      },
      "source": [
        "BASE=int(input())\n",
        "HEIGHT=int(input())\n",
        "AREA=1 / 2 * (BASE * HEIGHT)\n",
        "print(AREA)"
      ],
      "execution_count": 28,
      "outputs": [
        {
          "output_type": "stream",
          "text": [
            "3\n",
            "5\n",
            "7.5\n"
          ],
          "name": "stdout"
        }
      ]
    },
    {
      "cell_type": "code",
      "metadata": {
        "id": "4F86xU9tGawu"
      },
      "source": [
        "#N= NUMBER OF STUDENTS\n",
        "#K= NUMBER OF APPLES\n"
      ],
      "execution_count": null,
      "outputs": []
    }
  ]
}